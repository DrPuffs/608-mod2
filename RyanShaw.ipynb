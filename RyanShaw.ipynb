{
 "cells": [
  {
   "cell_type": "code",
   "execution_count": 1,
   "id": "29b6a5dd-20fd-43b9-9b1a-f49e8e6f9a78",
   "metadata": {},
   "outputs": [],
   "source": [
    "values = [47, 95, 88, 73, 88, 84]"
   ]
  },
  {
   "cell_type": "code",
   "execution_count": 2,
   "id": "4e1740c1-61ca-4fdc-af09-bfcf03405ecf",
   "metadata": {},
   "outputs": [
    {
     "data": {
      "text/plain": [
       "6"
      ]
     },
     "execution_count": 2,
     "metadata": {},
     "output_type": "execute_result"
    }
   ],
   "source": [
    "len(values)"
   ]
  },
  {
   "cell_type": "code",
   "execution_count": 3,
   "id": "e48564b2-b313-4b05-bd49-10d2e9edff86",
   "metadata": {},
   "outputs": [
    {
     "data": {
      "text/plain": [
       "475"
      ]
     },
     "execution_count": 3,
     "metadata": {},
     "output_type": "execute_result"
    }
   ],
   "source": [
    "sum(values)"
   ]
  },
  {
   "cell_type": "code",
   "execution_count": 4,
   "id": "cf774c4c-2b1b-4fdd-83ed-f26d71ffd943",
   "metadata": {},
   "outputs": [
    {
     "data": {
      "text/plain": [
       "79.16666666666667"
      ]
     },
     "execution_count": 4,
     "metadata": {},
     "output_type": "execute_result"
    }
   ],
   "source": [
    "sum(values) / len(values)"
   ]
  },
  {
   "cell_type": "code",
   "execution_count": 5,
   "id": "8f691d28-0398-4c7a-9f8a-0e30d3219283",
   "metadata": {},
   "outputs": [
    {
     "data": {
      "text/plain": [
       "79.16666666666667"
      ]
     },
     "execution_count": 5,
     "metadata": {},
     "output_type": "execute_result"
    }
   ],
   "source": [
    "import statistics as s\n",
    "s.mean(values)"
   ]
  },
  {
   "cell_type": "code",
   "execution_count": 6,
   "id": "c5c35260-f81d-4e88-be03-e4c6a8ef4544",
   "metadata": {},
   "outputs": [
    {
     "data": {
      "text/plain": [
       "86.0"
      ]
     },
     "execution_count": 6,
     "metadata": {},
     "output_type": "execute_result"
    }
   ],
   "source": [
    "s.median(values)"
   ]
  },
  {
   "cell_type": "code",
   "execution_count": 7,
   "id": "bbb66c88-c7a2-42aa-a148-280960b6dee8",
   "metadata": {},
   "outputs": [
    {
     "data": {
      "text/plain": [
       "88"
      ]
     },
     "execution_count": 7,
     "metadata": {},
     "output_type": "execute_result"
    }
   ],
   "source": [
    "s.mode(values)"
   ]
  },
  {
   "cell_type": "code",
   "execution_count": 8,
   "id": "28f4c891-3a12-4e3b-8cdb-eabebe2571ce",
   "metadata": {},
   "outputs": [],
   "source": [
    "import random as r\n",
    "new_values = []\n",
    "for i in range(100):\n",
    "    new_values.append(r.randint(1,25))"
   ]
  },
  {
   "cell_type": "code",
   "execution_count": 9,
   "id": "d8ac2cd1-4440-4a3e-b33c-76e46f83fe9a",
   "metadata": {},
   "outputs": [
    {
     "data": {
      "text/plain": [
       "100"
      ]
     },
     "execution_count": 9,
     "metadata": {},
     "output_type": "execute_result"
    }
   ],
   "source": [
    "len(new_values)"
   ]
  },
  {
   "cell_type": "code",
   "execution_count": 10,
   "id": "b5630f28-3711-481e-8946-c46fe20c323b",
   "metadata": {},
   "outputs": [
    {
     "data": {
      "text/plain": [
       "1190"
      ]
     },
     "execution_count": 10,
     "metadata": {},
     "output_type": "execute_result"
    }
   ],
   "source": [
    "sum(new_values)"
   ]
  },
  {
   "cell_type": "code",
   "execution_count": 11,
   "id": "1cf01422-f13e-4034-8ed3-a02e6f344a7e",
   "metadata": {},
   "outputs": [
    {
     "data": {
      "text/plain": [
       "11.9"
      ]
     },
     "execution_count": 11,
     "metadata": {},
     "output_type": "execute_result"
    }
   ],
   "source": [
    "s.mean(new_values)"
   ]
  },
  {
   "cell_type": "code",
   "execution_count": 12,
   "id": "23465ec2-fa21-4041-a1fa-3965d00b84ac",
   "metadata": {},
   "outputs": [
    {
     "data": {
      "text/plain": [
       "12.0"
      ]
     },
     "execution_count": 12,
     "metadata": {},
     "output_type": "execute_result"
    }
   ],
   "source": [
    "s.median(new_values)"
   ]
  },
  {
   "cell_type": "code",
   "execution_count": 13,
   "id": "141fc65a-c87e-4872-a4fa-9118bd4ebab6",
   "metadata": {},
   "outputs": [
    {
     "data": {
      "text/plain": [
       "12"
      ]
     },
     "execution_count": 13,
     "metadata": {},
     "output_type": "execute_result"
    }
   ],
   "source": [
    "s.mode(new_values)"
   ]
  }
 ],
 "metadata": {
  "kernelspec": {
   "display_name": "Python 3 (ipykernel)",
   "language": "python",
   "name": "python3"
  },
  "language_info": {
   "codemirror_mode": {
    "name": "ipython",
    "version": 3
   },
   "file_extension": ".py",
   "mimetype": "text/x-python",
   "name": "python",
   "nbconvert_exporter": "python",
   "pygments_lexer": "ipython3",
   "version": "3.8.12"
  }
 },
 "nbformat": 4,
 "nbformat_minor": 5
}
