{
 "cells": [
  {
   "cell_type": "markdown",
   "id": "7888bbb4-e8bc-4c5a-98ed-3b1f94e62c18",
   "metadata": {},
   "source": [
    "6.) Calculate Measures of Central Tendency - Native Python"
   ]
  },
  {
   "cell_type": "code",
   "execution_count": 1,
   "id": "1847e53a-7090-470e-a179-17b4c35e5301",
   "metadata": {},
   "outputs": [],
   "source": [
    "values = [47, 95, 88, 73, 88, 84]"
   ]
  },
  {
   "cell_type": "code",
   "execution_count": 3,
   "id": "37189562-c028-49a4-b1e9-a329b6ada8e9",
   "metadata": {},
   "outputs": [
    {
     "data": {
      "text/plain": [
       "6"
      ]
     },
     "execution_count": 3,
     "metadata": {},
     "output_type": "execute_result"
    }
   ],
   "source": [
    "len(values)"
   ]
  },
  {
   "cell_type": "code",
   "execution_count": 4,
   "id": "f65069f3-81e5-4199-a76b-ecf063597671",
   "metadata": {},
   "outputs": [
    {
     "data": {
      "text/plain": [
       "475"
      ]
     },
     "execution_count": 4,
     "metadata": {},
     "output_type": "execute_result"
    }
   ],
   "source": [
    "sum(values)"
   ]
  },
  {
   "cell_type": "code",
   "execution_count": 5,
   "id": "2e71cafd-fb43-413c-ab5a-d778cec4744a",
   "metadata": {},
   "outputs": [
    {
     "data": {
      "text/plain": [
       "79.16666666666667"
      ]
     },
     "execution_count": 5,
     "metadata": {},
     "output_type": "execute_result"
    }
   ],
   "source": [
    "sum(values) / len(values)"
   ]
  },
  {
   "cell_type": "markdown",
   "id": "c22c8667-706d-4a3d-9cf3-6a0b1b369fdc",
   "metadata": {},
   "source": [
    "7.) Calculate Measures of Central Tendency - with Statistic Module"
   ]
  },
  {
   "cell_type": "code",
   "execution_count": 7,
   "id": "3c44ca92-d414-4dc8-80c0-b9e70fa5671f",
   "metadata": {},
   "outputs": [
    {
     "data": {
      "text/plain": [
       "79.16666666666667"
      ]
     },
     "execution_count": 7,
     "metadata": {},
     "output_type": "execute_result"
    }
   ],
   "source": [
    "import statistics as s\n",
    "s.mean(values)"
   ]
  },
  {
   "cell_type": "code",
   "execution_count": 8,
   "id": "b6ec3832-f692-4cad-a0b2-ea1ddd1c66c9",
   "metadata": {},
   "outputs": [
    {
     "data": {
      "text/plain": [
       "86.0"
      ]
     },
     "execution_count": 8,
     "metadata": {},
     "output_type": "execute_result"
    }
   ],
   "source": [
    "s.median(values)"
   ]
  },
  {
   "cell_type": "code",
   "execution_count": 9,
   "id": "695b7bde-13e7-41b2-a25b-0477e4f2d3bc",
   "metadata": {},
   "outputs": [
    {
     "data": {
      "text/plain": [
       "88"
      ]
     },
     "execution_count": 9,
     "metadata": {},
     "output_type": "execute_result"
    }
   ],
   "source": [
    "s.mode(values)"
   ]
  },
  {
   "cell_type": "markdown",
   "id": "d5ac55a9-74ec-4a1b-8613-2b040138f1b7",
   "metadata": {},
   "source": [
    "8.) Custom Central Tendency"
   ]
  },
  {
   "cell_type": "code",
   "execution_count": 18,
   "id": "bca663b7-1093-4389-9bd2-0742374c746b",
   "metadata": {},
   "outputs": [],
   "source": [
    "import random as r\n",
    "new_values = []\n",
    "for i in range(100):\n",
    "    new_values.append(r.randint(1,25))"
   ]
  },
  {
   "cell_type": "code",
   "execution_count": 19,
   "id": "797d482d-d524-487c-85f0-e9bd34ad0ae9",
   "metadata": {},
   "outputs": [
    {
     "data": {
      "text/plain": [
       "100"
      ]
     },
     "execution_count": 19,
     "metadata": {},
     "output_type": "execute_result"
    }
   ],
   "source": [
    "len(new_values)"
   ]
  },
  {
   "cell_type": "code",
   "execution_count": 20,
   "id": "4e6e26b0-c1f6-4871-bcb3-0166bbfeaf7b",
   "metadata": {},
   "outputs": [
    {
     "data": {
      "text/plain": [
       "1312"
      ]
     },
     "execution_count": 20,
     "metadata": {},
     "output_type": "execute_result"
    }
   ],
   "source": [
    "sum(new_values)"
   ]
  },
  {
   "cell_type": "code",
   "execution_count": 21,
   "id": "6641eca4-f915-4d68-86cc-a0acc5f54cec",
   "metadata": {},
   "outputs": [
    {
     "data": {
      "text/plain": [
       "13.12"
      ]
     },
     "execution_count": 21,
     "metadata": {},
     "output_type": "execute_result"
    }
   ],
   "source": [
    "s.mean(new_values)"
   ]
  },
  {
   "cell_type": "code",
   "execution_count": 22,
   "id": "87461d4a-58e5-46f1-98b0-5a5ca1119d7b",
   "metadata": {},
   "outputs": [
    {
     "data": {
      "text/plain": [
       "14.0"
      ]
     },
     "execution_count": 22,
     "metadata": {},
     "output_type": "execute_result"
    }
   ],
   "source": [
    "s.median(new_values)"
   ]
  },
  {
   "cell_type": "code",
   "execution_count": 23,
   "id": "eeced5c5-0a53-4639-84bd-897d1a67262e",
   "metadata": {},
   "outputs": [
    {
     "data": {
      "text/plain": [
       "16"
      ]
     },
     "execution_count": 23,
     "metadata": {},
     "output_type": "execute_result"
    }
   ],
   "source": [
    "s.mode(new_values)"
   ]
  },
  {
   "cell_type": "code",
   "execution_count": null,
   "id": "32bf48ea-4d07-468c-ada1-a09fc3aa4dfe",
   "metadata": {},
   "outputs": [],
   "source": []
  },
  {
   "cell_type": "code",
   "execution_count": null,
   "id": "f3bd13b6-4c3f-4874-a11d-0b7cdfdc2a3b",
   "metadata": {},
   "outputs": [],
   "source": []
  },
  {
   "cell_type": "code",
   "execution_count": null,
   "id": "d93801ed-add5-42f3-a76c-103b079f5732",
   "metadata": {},
   "outputs": [],
   "source": []
  }
 ],
 "metadata": {
  "kernelspec": {
   "display_name": "Python 3 (ipykernel)",
   "language": "python",
   "name": "python3"
  },
  "language_info": {
   "codemirror_mode": {
    "name": "ipython",
    "version": 3
   },
   "file_extension": ".py",
   "mimetype": "text/x-python",
   "name": "python",
   "nbconvert_exporter": "python",
   "pygments_lexer": "ipython3",
   "version": "3.8.12"
  }
 },
 "nbformat": 4,
 "nbformat_minor": 5
}
